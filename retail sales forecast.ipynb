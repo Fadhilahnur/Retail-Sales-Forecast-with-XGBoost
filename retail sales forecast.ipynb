{
 "cells": [
  {
   "cell_type": "markdown",
   "id": "b02fd520-4b3a-4609-ba7e-dc37bff20d5d",
   "metadata": {},
   "source": [
    "# Import Libraries"
   ]
  },
  {
   "cell_type": "code",
   "execution_count": 1,
   "id": "d033cb2a-bd35-4e8a-8235-6ab99f2a7ddb",
   "metadata": {},
   "outputs": [],
   "source": [
    "#import the useful libraries.\n",
    "import numpy as np\n",
    "import pandas as pd\n",
    "import matplotlib.pyplot as plt\n",
    "import warnings\n",
    "import missingno as msno\n",
    "from sklearn.model_selection import train_test_split\n",
    "import scipy.stats as stats\n",
    "import pymssql\n",
    "import pickle\n",
    "warnings.filterwarnings('ignore')\n",
    "%matplotlib inline\n",
    "import mysql.connector\n",
    "from mysql.connector import Error"
   ]
  },
  {
   "cell_type": "markdown",
   "id": "8eb0e264-d47c-40e9-a943-c5c018908419",
   "metadata": {},
   "source": [
    "# Database connection to MSSQL Server"
   ]
  },
  {
   "cell_type": "code",
   "execution_count": 2,
   "id": "ce7bf04e-10ac-488a-8586-968f53a05fd3",
   "metadata": {},
   "outputs": [
    {
     "name": "stdout",
     "output_type": "stream",
     "text": [
      "\n",
      "\n",
      "SERVER VERSION:\n",
      "\n",
      "Microsoft Azure SQL Edge Developer (RTM) - 15.0.2000.1562 (ARM64) \n",
      "\tJan 14 2022 15:23:35 \n",
      "\tCopyright (C) 2019 Microsoft Corporation\n",
      "\tLinux (Ubuntu 18.04.6 LTS aarch64) <ARM64>\n"
     ]
    }
   ],
   "source": [
    "try:\n",
    "    mysqldb = pymssql.connect(server=\"172.20.10.3\", user=\"sa\", password=\"your_password\", database=\"KAGGLE\")\n",
    "    mycursor = mysqldb.cursor()\n",
    "    mycursor.execute (\"SELECT @@VERSION\")\n",
    "    row = mycursor.fetchone()\n",
    "    print(f\"\\n\\nSERVER VERSION:\\n\\n{row[0]}\")\n",
    "    #mycursor.close()\n",
    "    #mysqldb.close()\n",
    "except Exception:\n",
    "    print(\"\\nERROR: Unable to connect to the server.\")\n",
    "    exit(-1)"
   ]
  },
  {
   "cell_type": "markdown",
   "id": "20adc3ed-4f87-44f7-a9c0-3a55ccb4f8bc",
   "metadata": {},
   "source": [
    "# Call query table from MSSQL Server"
   ]
  },
  {
   "cell_type": "code",
   "execution_count": 3,
   "id": "be2233e0-17fa-47aa-b0a5-c355ce3b9f5f",
   "metadata": {},
   "outputs": [
    {
     "data": {
      "text/html": [
       "<div>\n",
       "<style scoped>\n",
       "    .dataframe tbody tr th:only-of-type {\n",
       "        vertical-align: middle;\n",
       "    }\n",
       "\n",
       "    .dataframe tbody tr th {\n",
       "        vertical-align: top;\n",
       "    }\n",
       "\n",
       "    .dataframe thead th {\n",
       "        text-align: right;\n",
       "    }\n",
       "</style>\n",
       "<table border=\"1\" class=\"dataframe\">\n",
       "  <thead>\n",
       "    <tr style=\"text-align: right;\">\n",
       "      <th></th>\n",
       "      <th>data</th>\n",
       "      <th>quantity</th>\n",
       "      <th>SKU</th>\n",
       "      <th>price</th>\n",
       "    </tr>\n",
       "  </thead>\n",
       "  <tbody>\n",
       "    <tr>\n",
       "      <th>0</th>\n",
       "      <td>2014-01-01</td>\n",
       "      <td>0</td>\n",
       "      <td>4972</td>\n",
       "      <td>1.29</td>\n",
       "    </tr>\n",
       "    <tr>\n",
       "      <th>1</th>\n",
       "      <td>2014-01-02</td>\n",
       "      <td>70</td>\n",
       "      <td>4902</td>\n",
       "      <td>1.29</td>\n",
       "    </tr>\n",
       "    <tr>\n",
       "      <th>2</th>\n",
       "      <td>2014-01-03</td>\n",
       "      <td>59</td>\n",
       "      <td>4843</td>\n",
       "      <td>1.29</td>\n",
       "    </tr>\n",
       "    <tr>\n",
       "      <th>3</th>\n",
       "      <td>2014-01-04</td>\n",
       "      <td>93</td>\n",
       "      <td>4750</td>\n",
       "      <td>1.29</td>\n",
       "    </tr>\n",
       "    <tr>\n",
       "      <th>4</th>\n",
       "      <td>2014-01-05</td>\n",
       "      <td>96</td>\n",
       "      <td>4654</td>\n",
       "      <td>1.29</td>\n",
       "    </tr>\n",
       "    <tr>\n",
       "      <th>...</th>\n",
       "      <td>...</td>\n",
       "      <td>...</td>\n",
       "      <td>...</td>\n",
       "      <td>...</td>\n",
       "    </tr>\n",
       "    <tr>\n",
       "      <th>932</th>\n",
       "      <td>2016-07-27</td>\n",
       "      <td>98</td>\n",
       "      <td>3179</td>\n",
       "      <td>2.39</td>\n",
       "    </tr>\n",
       "    <tr>\n",
       "      <th>933</th>\n",
       "      <td>2016-07-28</td>\n",
       "      <td>108</td>\n",
       "      <td>3071</td>\n",
       "      <td>2.39</td>\n",
       "    </tr>\n",
       "    <tr>\n",
       "      <th>934</th>\n",
       "      <td>2016-07-29</td>\n",
       "      <td>128</td>\n",
       "      <td>4095</td>\n",
       "      <td>2.39</td>\n",
       "    </tr>\n",
       "    <tr>\n",
       "      <th>935</th>\n",
       "      <td>2016-07-30</td>\n",
       "      <td>270</td>\n",
       "      <td>3825</td>\n",
       "      <td>2.39</td>\n",
       "    </tr>\n",
       "    <tr>\n",
       "      <th>936</th>\n",
       "      <td>2016-07-31</td>\n",
       "      <td>183</td>\n",
       "      <td>3642</td>\n",
       "      <td>2.39</td>\n",
       "    </tr>\n",
       "  </tbody>\n",
       "</table>\n",
       "<p>937 rows × 4 columns</p>\n",
       "</div>"
      ],
      "text/plain": [
       "           data  quantity   SKU  price\n",
       "0    2014-01-01         0  4972   1.29\n",
       "1    2014-01-02        70  4902   1.29\n",
       "2    2014-01-03        59  4843   1.29\n",
       "3    2014-01-04        93  4750   1.29\n",
       "4    2014-01-05        96  4654   1.29\n",
       "..          ...       ...   ...    ...\n",
       "932  2016-07-27        98  3179   2.39\n",
       "933  2016-07-28       108  3071   2.39\n",
       "934  2016-07-29       128  4095   2.39\n",
       "935  2016-07-30       270  3825   2.39\n",
       "936  2016-07-31       183  3642   2.39\n",
       "\n",
       "[937 rows x 4 columns]"
      ]
     },
     "execution_count": 3,
     "metadata": {},
     "output_type": "execute_result"
    }
   ],
   "source": [
    "sql_query = \"\"\"SELECT*FROM RETAIL_SALES;\"\"\".format(input)\n",
    "df = pd.read_sql_query(sql_query , mysqldb)\n",
    "\n",
    "df"
   ]
  },
  {
   "cell_type": "code",
   "execution_count": 4,
   "id": "19155951-f78a-46f6-b713-e3cb0b7c91c4",
   "metadata": {},
   "outputs": [
    {
     "data": {
      "text/html": [
       "<div>\n",
       "<style scoped>\n",
       "    .dataframe tbody tr th:only-of-type {\n",
       "        vertical-align: middle;\n",
       "    }\n",
       "\n",
       "    .dataframe tbody tr th {\n",
       "        vertical-align: top;\n",
       "    }\n",
       "\n",
       "    .dataframe thead th {\n",
       "        text-align: right;\n",
       "    }\n",
       "</style>\n",
       "<table border=\"1\" class=\"dataframe\">\n",
       "  <thead>\n",
       "    <tr style=\"text-align: right;\">\n",
       "      <th></th>\n",
       "      <th>data</th>\n",
       "      <th>quantity</th>\n",
       "      <th>SKU</th>\n",
       "      <th>price</th>\n",
       "    </tr>\n",
       "  </thead>\n",
       "  <tbody>\n",
       "    <tr>\n",
       "      <th>0</th>\n",
       "      <td>2014-01-01</td>\n",
       "      <td>0</td>\n",
       "      <td>4972</td>\n",
       "      <td>1.29</td>\n",
       "    </tr>\n",
       "    <tr>\n",
       "      <th>1</th>\n",
       "      <td>2014-01-02</td>\n",
       "      <td>70</td>\n",
       "      <td>4902</td>\n",
       "      <td>1.29</td>\n",
       "    </tr>\n",
       "    <tr>\n",
       "      <th>2</th>\n",
       "      <td>2014-01-03</td>\n",
       "      <td>59</td>\n",
       "      <td>4843</td>\n",
       "      <td>1.29</td>\n",
       "    </tr>\n",
       "    <tr>\n",
       "      <th>3</th>\n",
       "      <td>2014-01-04</td>\n",
       "      <td>93</td>\n",
       "      <td>4750</td>\n",
       "      <td>1.29</td>\n",
       "    </tr>\n",
       "    <tr>\n",
       "      <th>4</th>\n",
       "      <td>2014-01-05</td>\n",
       "      <td>96</td>\n",
       "      <td>4654</td>\n",
       "      <td>1.29</td>\n",
       "    </tr>\n",
       "  </tbody>\n",
       "</table>\n",
       "</div>"
      ],
      "text/plain": [
       "         data  quantity   SKU  price\n",
       "0  2014-01-01         0  4972   1.29\n",
       "1  2014-01-02        70  4902   1.29\n",
       "2  2014-01-03        59  4843   1.29\n",
       "3  2014-01-04        93  4750   1.29\n",
       "4  2014-01-05        96  4654   1.29"
      ]
     },
     "execution_count": 4,
     "metadata": {},
     "output_type": "execute_result"
    }
   ],
   "source": [
    "df.head(5)"
   ]
  },
  {
   "cell_type": "code",
   "execution_count": 5,
   "id": "f7fe835d-56bd-4a7c-b952-57edf8222a7e",
   "metadata": {},
   "outputs": [
    {
     "name": "stdout",
     "output_type": "stream",
     "text": [
      "The shape of Retail Sales Forecast dataset is: (937, 4)\n"
     ]
    }
   ],
   "source": [
    "print('The shape of Retail Sales Forecast dataset is:', df.shape)"
   ]
  },
  {
   "cell_type": "code",
   "execution_count": 6,
   "id": "ff4605ae-f8df-4618-816b-7e55e8fc5734",
   "metadata": {},
   "outputs": [
    {
     "data": {
      "text/html": [
       "<div>\n",
       "<style scoped>\n",
       "    .dataframe tbody tr th:only-of-type {\n",
       "        vertical-align: middle;\n",
       "    }\n",
       "\n",
       "    .dataframe tbody tr th {\n",
       "        vertical-align: top;\n",
       "    }\n",
       "\n",
       "    .dataframe thead th {\n",
       "        text-align: right;\n",
       "    }\n",
       "</style>\n",
       "<table border=\"1\" class=\"dataframe\">\n",
       "  <thead>\n",
       "    <tr style=\"text-align: right;\">\n",
       "      <th></th>\n",
       "      <th>quantity</th>\n",
       "      <th>SKU</th>\n",
       "      <th>price</th>\n",
       "    </tr>\n",
       "  </thead>\n",
       "  <tbody>\n",
       "    <tr>\n",
       "      <th>count</th>\n",
       "      <td>937.000000</td>\n",
       "      <td>937.000000</td>\n",
       "      <td>937.000000</td>\n",
       "    </tr>\n",
       "    <tr>\n",
       "      <th>mean</th>\n",
       "      <td>90.533618</td>\n",
       "      <td>1608.258271</td>\n",
       "      <td>1.592572</td>\n",
       "    </tr>\n",
       "    <tr>\n",
       "      <th>std</th>\n",
       "      <td>80.682089</td>\n",
       "      <td>1356.691877</td>\n",
       "      <td>0.529502</td>\n",
       "    </tr>\n",
       "    <tr>\n",
       "      <th>min</th>\n",
       "      <td>0.000000</td>\n",
       "      <td>0.000000</td>\n",
       "      <td>0.000000</td>\n",
       "    </tr>\n",
       "    <tr>\n",
       "      <th>25%</th>\n",
       "      <td>33.000000</td>\n",
       "      <td>794.000000</td>\n",
       "      <td>1.290000</td>\n",
       "    </tr>\n",
       "    <tr>\n",
       "      <th>50%</th>\n",
       "      <td>76.000000</td>\n",
       "      <td>1348.000000</td>\n",
       "      <td>1.390000</td>\n",
       "    </tr>\n",
       "    <tr>\n",
       "      <th>75%</th>\n",
       "      <td>127.000000</td>\n",
       "      <td>1964.000000</td>\n",
       "      <td>1.890000</td>\n",
       "    </tr>\n",
       "    <tr>\n",
       "      <th>max</th>\n",
       "      <td>542.000000</td>\n",
       "      <td>7228.000000</td>\n",
       "      <td>2.980000</td>\n",
       "    </tr>\n",
       "  </tbody>\n",
       "</table>\n",
       "</div>"
      ],
      "text/plain": [
       "         quantity          SKU       price\n",
       "count  937.000000   937.000000  937.000000\n",
       "mean    90.533618  1608.258271    1.592572\n",
       "std     80.682089  1356.691877    0.529502\n",
       "min      0.000000     0.000000    0.000000\n",
       "25%     33.000000   794.000000    1.290000\n",
       "50%     76.000000  1348.000000    1.390000\n",
       "75%    127.000000  1964.000000    1.890000\n",
       "max    542.000000  7228.000000    2.980000"
      ]
     },
     "execution_count": 6,
     "metadata": {},
     "output_type": "execute_result"
    }
   ],
   "source": [
    "# Descriptive statistics for each column\n",
    "df.describe()"
   ]
  },
  {
   "cell_type": "markdown",
   "id": "c806876c-78c8-4d7a-a4c4-9768ddaa0394",
   "metadata": {},
   "source": [
    "# Data Cleaning"
   ]
  },
  {
   "cell_type": "code",
   "execution_count": 7,
   "id": "4e5f41fa-0a55-4f19-9abc-7f5403feea5b",
   "metadata": {},
   "outputs": [
    {
     "name": "stdout",
     "output_type": "stream",
     "text": [
      "<class 'pandas.core.frame.DataFrame'>\n",
      "RangeIndex: 937 entries, 0 to 936\n",
      "Data columns (total 4 columns):\n",
      " #   Column    Non-Null Count  Dtype  \n",
      "---  ------    --------------  -----  \n",
      " 0   data      937 non-null    object \n",
      " 1   quantity  937 non-null    int64  \n",
      " 2   SKU       937 non-null    int64  \n",
      " 3   price     937 non-null    float64\n",
      "dtypes: float64(1), int64(2), object(1)\n",
      "memory usage: 29.4+ KB\n"
     ]
    }
   ],
   "source": [
    "df.info()"
   ]
  },
  {
   "cell_type": "code",
   "execution_count": 8,
   "id": "aefeafb3-bb50-46bf-9bac-e12e6f52409f",
   "metadata": {},
   "outputs": [
    {
     "data": {
      "text/plain": [
       "data        0\n",
       "quantity    0\n",
       "SKU         0\n",
       "price       0\n",
       "dtype: int64"
      ]
     },
     "execution_count": 8,
     "metadata": {},
     "output_type": "execute_result"
    }
   ],
   "source": [
    "# Checking the missing values\n",
    "df.isnull().sum()"
   ]
  },
  {
   "cell_type": "code",
   "execution_count": 9,
   "id": "1d5b1559-ab15-40a6-aa15-dcf2de77e39d",
   "metadata": {},
   "outputs": [
    {
     "data": {
      "text/html": [
       "<div>\n",
       "<style scoped>\n",
       "    .dataframe tbody tr th:only-of-type {\n",
       "        vertical-align: middle;\n",
       "    }\n",
       "\n",
       "    .dataframe tbody tr th {\n",
       "        vertical-align: top;\n",
       "    }\n",
       "\n",
       "    .dataframe thead th {\n",
       "        text-align: right;\n",
       "    }\n",
       "</style>\n",
       "<table border=\"1\" class=\"dataframe\">\n",
       "  <thead>\n",
       "    <tr style=\"text-align: right;\">\n",
       "      <th></th>\n",
       "      <th>quantity</th>\n",
       "      <th>SKU</th>\n",
       "      <th>price</th>\n",
       "    </tr>\n",
       "    <tr>\n",
       "      <th>data</th>\n",
       "      <th></th>\n",
       "      <th></th>\n",
       "      <th></th>\n",
       "    </tr>\n",
       "  </thead>\n",
       "  <tbody>\n",
       "    <tr>\n",
       "      <th>2014-01-01</th>\n",
       "      <td>0</td>\n",
       "      <td>4972</td>\n",
       "      <td>1.29</td>\n",
       "    </tr>\n",
       "    <tr>\n",
       "      <th>2014-01-02</th>\n",
       "      <td>70</td>\n",
       "      <td>4902</td>\n",
       "      <td>1.29</td>\n",
       "    </tr>\n",
       "    <tr>\n",
       "      <th>2014-01-03</th>\n",
       "      <td>59</td>\n",
       "      <td>4843</td>\n",
       "      <td>1.29</td>\n",
       "    </tr>\n",
       "    <tr>\n",
       "      <th>2014-01-04</th>\n",
       "      <td>93</td>\n",
       "      <td>4750</td>\n",
       "      <td>1.29</td>\n",
       "    </tr>\n",
       "    <tr>\n",
       "      <th>2014-01-05</th>\n",
       "      <td>96</td>\n",
       "      <td>4654</td>\n",
       "      <td>1.29</td>\n",
       "    </tr>\n",
       "    <tr>\n",
       "      <th>...</th>\n",
       "      <td>...</td>\n",
       "      <td>...</td>\n",
       "      <td>...</td>\n",
       "    </tr>\n",
       "    <tr>\n",
       "      <th>2016-07-27</th>\n",
       "      <td>98</td>\n",
       "      <td>3179</td>\n",
       "      <td>2.39</td>\n",
       "    </tr>\n",
       "    <tr>\n",
       "      <th>2016-07-28</th>\n",
       "      <td>108</td>\n",
       "      <td>3071</td>\n",
       "      <td>2.39</td>\n",
       "    </tr>\n",
       "    <tr>\n",
       "      <th>2016-07-29</th>\n",
       "      <td>128</td>\n",
       "      <td>4095</td>\n",
       "      <td>2.39</td>\n",
       "    </tr>\n",
       "    <tr>\n",
       "      <th>2016-07-30</th>\n",
       "      <td>270</td>\n",
       "      <td>3825</td>\n",
       "      <td>2.39</td>\n",
       "    </tr>\n",
       "    <tr>\n",
       "      <th>2016-07-31</th>\n",
       "      <td>183</td>\n",
       "      <td>3642</td>\n",
       "      <td>2.39</td>\n",
       "    </tr>\n",
       "  </tbody>\n",
       "</table>\n",
       "<p>937 rows × 3 columns</p>\n",
       "</div>"
      ],
      "text/plain": [
       "            quantity   SKU  price\n",
       "data                             \n",
       "2014-01-01         0  4972   1.29\n",
       "2014-01-02        70  4902   1.29\n",
       "2014-01-03        59  4843   1.29\n",
       "2014-01-04        93  4750   1.29\n",
       "2014-01-05        96  4654   1.29\n",
       "...              ...   ...    ...\n",
       "2016-07-27        98  3179   2.39\n",
       "2016-07-28       108  3071   2.39\n",
       "2016-07-29       128  4095   2.39\n",
       "2016-07-30       270  3825   2.39\n",
       "2016-07-31       183  3642   2.39\n",
       "\n",
       "[937 rows x 3 columns]"
      ]
     },
     "execution_count": 9,
     "metadata": {},
     "output_type": "execute_result"
    }
   ],
   "source": [
    "df['data'] = pd.to_datetime(df['data'])\n",
    "df = df.set_index('data')\n",
    "df=df.dropna()\n",
    "df"
   ]
  },
  {
   "cell_type": "markdown",
   "id": "67a44457-f603-47c0-963c-7c4b9f691449",
   "metadata": {},
   "source": [
    "# Handling Outlier"
   ]
  },
  {
   "cell_type": "code",
   "execution_count": 10,
   "id": "dd87bfd7-928d-4b66-9380-6f45645e04a1",
   "metadata": {},
   "outputs": [
    {
     "data": {
      "text/plain": [
       "Text(0.5, 0, 'quantity')"
      ]
     },
     "execution_count": 10,
     "metadata": {},
     "output_type": "execute_result"
    },
    {
     "data": {
      "image/png": "[encoded data removed]",
      "text/plain": [
       "<Figure size 432x288 with 1 Axes>"
      ]
     },
     "metadata": {
      "needs_background": "light"
     },
     "output_type": "display_data"
    }
   ],
   "source": [
    "# Detecting outliers from FFB_Yield\n",
    "plt.boxplot(x=df['quantity'])\n",
    "plt.title(\"Detecting outliers using Boxplot\")\n",
    "plt.xlabel('quantity')"
   ]
  },
  {
   "cell_type": "code",
   "execution_count": 11,
   "id": "22c60af3-a3e0-4a69-940e-9c3bf70a11be",
   "metadata": {},
   "outputs": [
    {
     "data": {
      "text/plain": [
       "Text(0.5, 0, 'price')"
      ]
     },
     "execution_count": 11,
     "metadata": {},
     "output_type": "execute_result"
    },
    {
     "data": {
      "image/png": "[encoded data removed]",
      "text/plain": [
       "<Figure size 432x288 with 1 Axes>"
      ]
     },
     "metadata": {
      "needs_background": "light"
     },
     "output_type": "display_data"
    }
   ],
   "source": [
    "# Detecting outliers from FFB_Yield\n",
    "plt.boxplot(x=df['price'])\n",
    "plt.title(\"Detecting outliers using Boxplot\")\n",
    "plt.xlabel('price')"
   ]
  },
  {
   "cell_type": "markdown",
   "id": "4e186801-3fa8-4968-9bcf-fb19dd4ac4e0",
   "metadata": {},
   "source": [
    "# Removing Outliers by using Interquartile range (IQR) method"
   ]
  },
  {
   "cell_type": "code",
   "execution_count": 12,
   "id": "cc102a51-fa59-45a0-97dd-10d67dcf3dc5",
   "metadata": {},
   "outputs": [],
   "source": [
    "Q1=df.quantile(0.25)\n",
    "Q3=df.quantile(0.75)\n",
    "IQR=Q3-Q1\n",
    "df2 =df[~((df<(Q1-1.5*IQR)) | (df>(Q3+1.5*IQR)))]"
   ]
  },
  {
   "cell_type": "code",
   "execution_count": 13,
   "id": "412e336d-c150-4709-862f-5b3a1204e99b",
   "metadata": {},
   "outputs": [
    {
     "data": {
      "text/plain": [
       "(937, 3)"
      ]
     },
     "execution_count": 13,
     "metadata": {},
     "output_type": "execute_result"
    }
   ],
   "source": [
    "#find how many rows are left in the dataframe \n",
    "df2.shape"
   ]
  },
  {
   "cell_type": "code",
   "execution_count": 14,
   "id": "40424aaf-3426-4e28-b8cc-139a0a356abb",
   "metadata": {},
   "outputs": [
    {
     "data": {
      "text/plain": [
       "<AxesSubplot:>"
      ]
     },
     "execution_count": 14,
     "metadata": {},
     "output_type": "execute_result"
    },
    {
     "data": {
      "image/png": "[encoded data removed]",
      "text/plain": [
       "<Figure size 432x288 with 1 Axes>"
      ]
     },
     "metadata": {
      "needs_background": "light"
     },
     "output_type": "display_data"
    }
   ],
   "source": [
    "df2.boxplot()"
   ]
  },
  {
   "cell_type": "markdown",
   "id": "dd3b1520-a872-4f90-8b85-6e5923a4e766",
   "metadata": {},
   "source": [
    "# Correlation "
   ]
  },
  {
   "cell_type": "code",
   "execution_count": 15,
   "id": "f140bf07-811b-485e-bbc5-a488fcfda85a",
   "metadata": {},
   "outputs": [
    {
     "data": {
      "image/png": "[encoded data removed]",
      "text/plain": [
       "<Figure size 576x360 with 2 Axes>"
      ]
     },
     "metadata": {
      "needs_background": "light"
     },
     "output_type": "display_data"
    }
   ],
   "source": [
    "# Lets explore the correlations in our data set \n",
    "import seaborn as sns\n",
    "plt.figure(figsize=(8,5))\n",
    "sns.heatmap(df2.corr(), cmap=\"YlGnBu\", annot=True)\n",
    "plt.savefig('retail_sales_forecast.png')"
   ]
  },
  {
   "cell_type": "code",
   "execution_count": 16,
   "id": "c3c7fb84-bfda-4d5d-b791-62b9f39d5b0f",
   "metadata": {},
   "outputs": [
    {
     "data": {
      "text/html": [
       "<div>\n",
       "<style scoped>\n",
       "    .dataframe tbody tr th:only-of-type {\n",
       "        vertical-align: middle;\n",
       "    }\n",
       "\n",
       "    .dataframe tbody tr th {\n",
       "        vertical-align: top;\n",
       "    }\n",
       "\n",
       "    .dataframe thead th {\n",
       "        text-align: right;\n",
       "    }\n",
       "</style>\n",
       "<table border=\"1\" class=\"dataframe\">\n",
       "  <thead>\n",
       "    <tr style=\"text-align: right;\">\n",
       "      <th></th>\n",
       "      <th>quantity</th>\n",
       "      <th>SKU</th>\n",
       "      <th>price</th>\n",
       "    </tr>\n",
       "    <tr>\n",
       "      <th>data</th>\n",
       "      <th></th>\n",
       "      <th></th>\n",
       "      <th></th>\n",
       "    </tr>\n",
       "  </thead>\n",
       "  <tbody>\n",
       "    <tr>\n",
       "      <th>2014-01-25</th>\n",
       "      <td>198.0</td>\n",
       "      <td>3595.0</td>\n",
       "      <td>1.09</td>\n",
       "    </tr>\n",
       "    <tr>\n",
       "      <th>2014-01-26</th>\n",
       "      <td>168.0</td>\n",
       "      <td>3427.0</td>\n",
       "      <td>1.09</td>\n",
       "    </tr>\n",
       "    <tr>\n",
       "      <th>2014-01-27</th>\n",
       "      <td>125.0</td>\n",
       "      <td>3302.0</td>\n",
       "      <td>1.09</td>\n",
       "    </tr>\n",
       "    <tr>\n",
       "      <th>2014-01-28</th>\n",
       "      <td>86.0</td>\n",
       "      <td>3216.0</td>\n",
       "      <td>1.09</td>\n",
       "    </tr>\n",
       "    <tr>\n",
       "      <th>2014-01-29</th>\n",
       "      <td>222.0</td>\n",
       "      <td>2994.0</td>\n",
       "      <td>0.99</td>\n",
       "    </tr>\n",
       "    <tr>\n",
       "      <th>...</th>\n",
       "      <td>...</td>\n",
       "      <td>...</td>\n",
       "      <td>...</td>\n",
       "    </tr>\n",
       "    <tr>\n",
       "      <th>2016-07-25</th>\n",
       "      <td>62.0</td>\n",
       "      <td>1358.0</td>\n",
       "      <td>2.39</td>\n",
       "    </tr>\n",
       "    <tr>\n",
       "      <th>2016-07-26</th>\n",
       "      <td>97.0</td>\n",
       "      <td>2893.0</td>\n",
       "      <td>2.39</td>\n",
       "    </tr>\n",
       "    <tr>\n",
       "      <th>2016-07-27</th>\n",
       "      <td>98.0</td>\n",
       "      <td>3179.0</td>\n",
       "      <td>2.39</td>\n",
       "    </tr>\n",
       "    <tr>\n",
       "      <th>2016-07-28</th>\n",
       "      <td>108.0</td>\n",
       "      <td>3071.0</td>\n",
       "      <td>2.39</td>\n",
       "    </tr>\n",
       "    <tr>\n",
       "      <th>2016-07-31</th>\n",
       "      <td>183.0</td>\n",
       "      <td>3642.0</td>\n",
       "      <td>2.39</td>\n",
       "    </tr>\n",
       "  </tbody>\n",
       "</table>\n",
       "<p>790 rows × 3 columns</p>\n",
       "</div>"
      ],
      "text/plain": [
       "            quantity     SKU  price\n",
       "data                               \n",
       "2014-01-25     198.0  3595.0   1.09\n",
       "2014-01-26     168.0  3427.0   1.09\n",
       "2014-01-27     125.0  3302.0   1.09\n",
       "2014-01-28      86.0  3216.0   1.09\n",
       "2014-01-29     222.0  2994.0   0.99\n",
       "...              ...     ...    ...\n",
       "2016-07-25      62.0  1358.0   2.39\n",
       "2016-07-26      97.0  2893.0   2.39\n",
       "2016-07-27      98.0  3179.0   2.39\n",
       "2016-07-28     108.0  3071.0   2.39\n",
       "2016-07-31     183.0  3642.0   2.39\n",
       "\n",
       "[790 rows x 3 columns]"
      ]
     },
     "execution_count": 16,
     "metadata": {},
     "output_type": "execute_result"
    }
   ],
   "source": [
    "df2=df2.dropna()\n",
    "df2.shape\n",
    "df2"
   ]
  },
  {
   "cell_type": "markdown",
   "id": "ab88b648-94cf-4c3a-b04d-5b7d856b51c1",
   "metadata": {},
   "source": [
    "# Divide the dataset into test and train set"
   ]
  },
  {
   "cell_type": "code",
   "execution_count": 17,
   "id": "98788c77-5c7b-4e83-a3e0-dbec804d03d6",
   "metadata": {},
   "outputs": [
    {
     "data": {
      "text/plain": [
       "<bound method NDFrame.head of             price\n",
       "data             \n",
       "2014-01-25   1.09\n",
       "2014-01-26   1.09\n",
       "2014-01-27   1.09\n",
       "2014-01-28   1.09\n",
       "2014-01-29   0.99\n",
       "...           ...\n",
       "2016-07-25   2.39\n",
       "2016-07-26   2.39\n",
       "2016-07-27   2.39\n",
       "2016-07-28   2.39\n",
       "2016-07-31   2.39\n",
       "\n",
       "[790 rows x 1 columns]>"
      ]
     },
     "execution_count": 17,
     "metadata": {},
     "output_type": "execute_result"
    }
   ],
   "source": [
    "X = df2.drop(['quantity','SKU'], axis = 1)\n",
    "X.head "
   ]
  },
  {
   "cell_type": "code",
   "execution_count": 18,
   "id": "eacfa240-3bb4-4633-855f-37ff729c7799",
   "metadata": {},
   "outputs": [
    {
     "data": {
      "text/plain": [
       "<bound method NDFrame.head of             quantity\n",
       "data                \n",
       "2014-01-25     198.0\n",
       "2014-01-26     168.0\n",
       "2014-01-27     125.0\n",
       "2014-01-28      86.0\n",
       "2014-01-29     222.0\n",
       "...              ...\n",
       "2016-07-25      62.0\n",
       "2016-07-26      97.0\n",
       "2016-07-27      98.0\n",
       "2016-07-28     108.0\n",
       "2016-07-31     183.0\n",
       "\n",
       "[790 rows x 1 columns]>"
      ]
     },
     "execution_count": 18,
     "metadata": {},
     "output_type": "execute_result"
    }
   ],
   "source": [
    "Y = df2.drop(['price', 'SKU'], axis = 1)\n",
    "Y.head"
   ]
  },
  {
   "cell_type": "markdown",
   "id": "9571a73b-5556-4d69-bb59-9acc9c784831",
   "metadata": {},
   "source": [
    "# Split into train test sets"
   ]
  },
  {
   "cell_type": "code",
   "execution_count": 19,
   "id": "1f983c7f-ed3a-4f75-8461-88f3178c7c87",
   "metadata": {},
   "outputs": [],
   "source": [
    "y_train = Y.iloc[:785, 0:1]\n",
    "X_train = X.iloc[:785,0:1]\n",
    "\n",
    "y_test = Y.iloc[785:, 0:1]\n",
    "X_test = X.iloc[785:,0:1]"
   ]
  },
  {
   "cell_type": "markdown",
   "id": "c548c4e5-ea3e-4a82-b0c3-5ee96c0e2229",
   "metadata": {},
   "source": [
    "# Scaling the data"
   ]
  },
  {
   "cell_type": "code",
   "execution_count": 20,
   "id": "0636725a-14e7-46e8-a745-377491e5baeb",
   "metadata": {},
   "outputs": [],
   "source": [
    "from sklearn.preprocessing import StandardScaler\n",
    "sc = StandardScaler()"
   ]
  },
  {
   "cell_type": "code",
   "execution_count": 21,
   "id": "6f8993a7-3871-4fab-99d0-45b35e0e1538",
   "metadata": {},
   "outputs": [
    {
     "data": {
      "text/plain": [
       "array([[1.80057869],\n",
       "       [1.80057869],\n",
       "       [1.80057869],\n",
       "       [1.80057869],\n",
       "       [1.80057869]])"
      ]
     },
     "execution_count": 21,
     "metadata": {},
     "output_type": "execute_result"
    }
   ],
   "source": [
    "sc.fit_transform(X_train)\n",
    "sc.transform(X_test)"
   ]
  },
  {
   "cell_type": "markdown",
   "id": "ff071268-4501-497f-884a-26661873aaa7",
   "metadata": {},
   "source": [
    "# XGBoost Model"
   ]
  },
  {
   "cell_type": "code",
   "execution_count": 22,
   "id": "be1f5de6-e050-431c-8e66-9038737010f3",
   "metadata": {},
   "outputs": [],
   "source": [
    "import xgboost as xgb"
   ]
  },
  {
   "cell_type": "code",
   "execution_count": 23,
   "id": "2d50b496-d191-461c-b4d8-4fe13ac32d87",
   "metadata": {},
   "outputs": [],
   "source": [
    "# Fine tune parameter here:\n",
    "model = xgb.XGBRegressor(objective ='reg:linear', colsample_bytree = 0.3, learning_rate = 0.25,\n",
    "                max_depth = 10, alpha = 10, n_estimators = 1000, scale_pos_weight=5, random_state=100, reg_lambda=0.001)"
   ]
  },
  {
   "cell_type": "code",
   "execution_count": 24,
   "id": "056ddee4-5e8c-4712-b85c-1c65aae8e8d8",
   "metadata": {},
   "outputs": [
    {
     "name": "stdout",
     "output_type": "stream",
     "text": [
      "[23:02:59] WARNING: /Users/runner/work/xgboost/xgboost/python-package/build/temp.macosx-10.9-x86_64-3.7/xgboost/src/objective/regression_obj.cu:203: reg:linear is now deprecated in favor of reg:squarederror.\n"
     ]
    }
   ],
   "source": [
    "# fit model\n",
    "regressorXGB = model.fit(X_train, y_train)"
   ]
  },
  {
   "cell_type": "code",
   "execution_count": 25,
   "id": "59a72ee0-9c03-44b0-9f70-aec803b5f956",
   "metadata": {},
   "outputs": [],
   "source": [
    "with open('regressorXGB.pkl','wb') as model:\n",
    "   pickle.dump(regressorXGB, model)"
   ]
  },
  {
   "cell_type": "code",
   "execution_count": 26,
   "id": "b8820899-5f01-4e53-9318-edbea94c286c",
   "metadata": {},
   "outputs": [],
   "source": [
    "# Predicting the target values of the test set\n",
    "y_pred = regressorXGB.predict(X_test)"
   ]
  },
  {
   "cell_type": "code",
   "execution_count": 27,
   "id": "3644e1d1-b527-4a90-9e99-b2f1f93d9d56",
   "metadata": {},
   "outputs": [
    {
     "data": {
      "text/plain": [
       "array([133.52922, 133.52922, 133.52922, 133.52922, 133.52922],\n",
       "      dtype=float32)"
      ]
     },
     "execution_count": 27,
     "metadata": {},
     "output_type": "execute_result"
    }
   ],
   "source": [
    "y_pred"
   ]
  },
  {
   "cell_type": "code",
   "execution_count": 28,
   "id": "eae6a030-880c-4135-82a3-0fe293802837",
   "metadata": {},
   "outputs": [],
   "source": [
    "y_pred=y_pred.reshape(5,1)"
   ]
  },
  {
   "cell_type": "code",
   "execution_count": 29,
   "id": "4ac42992-07a0-4950-bb26-b91cb4fe6855",
   "metadata": {},
   "outputs": [
    {
     "data": {
      "text/html": [
       "<div>\n",
       "<style scoped>\n",
       "    .dataframe tbody tr th:only-of-type {\n",
       "        vertical-align: middle;\n",
       "    }\n",
       "\n",
       "    .dataframe tbody tr th {\n",
       "        vertical-align: top;\n",
       "    }\n",
       "\n",
       "    .dataframe thead th {\n",
       "        text-align: right;\n",
       "    }\n",
       "</style>\n",
       "<table border=\"1\" class=\"dataframe\">\n",
       "  <thead>\n",
       "    <tr style=\"text-align: right;\">\n",
       "      <th></th>\n",
       "      <th>Prediction</th>\n",
       "      <th>Actual</th>\n",
       "    </tr>\n",
       "  </thead>\n",
       "  <tbody>\n",
       "    <tr>\n",
       "      <th>0</th>\n",
       "      <td>133.529221</td>\n",
       "      <td>62.0</td>\n",
       "    </tr>\n",
       "    <tr>\n",
       "      <th>1</th>\n",
       "      <td>133.529221</td>\n",
       "      <td>97.0</td>\n",
       "    </tr>\n",
       "    <tr>\n",
       "      <th>2</th>\n",
       "      <td>133.529221</td>\n",
       "      <td>98.0</td>\n",
       "    </tr>\n",
       "    <tr>\n",
       "      <th>3</th>\n",
       "      <td>133.529221</td>\n",
       "      <td>108.0</td>\n",
       "    </tr>\n",
       "    <tr>\n",
       "      <th>4</th>\n",
       "      <td>133.529221</td>\n",
       "      <td>183.0</td>\n",
       "    </tr>\n",
       "  </tbody>\n",
       "</table>\n",
       "</div>"
      ],
      "text/plain": [
       "   Prediction  Actual\n",
       "0  133.529221    62.0\n",
       "1  133.529221    97.0\n",
       "2  133.529221    98.0\n",
       "3  133.529221   108.0\n",
       "4  133.529221   183.0"
      ]
     },
     "execution_count": 29,
     "metadata": {},
     "output_type": "execute_result"
    }
   ],
   "source": [
    "pred_y_df = pd.DataFrame(np.concatenate((y_pred,y_test),1), columns=['Prediction', 'Actual'])\n",
    "pred_y_df.head(5)"
   ]
  },
  {
   "cell_type": "code",
   "execution_count": 30,
   "id": "5a138589-a646-4911-a231-f2705fcfeffe",
   "metadata": {},
   "outputs": [
    {
     "data": {
      "text/html": [
       "<div>\n",
       "<style scoped>\n",
       "    .dataframe tbody tr th:only-of-type {\n",
       "        vertical-align: middle;\n",
       "    }\n",
       "\n",
       "    .dataframe tbody tr th {\n",
       "        vertical-align: top;\n",
       "    }\n",
       "\n",
       "    .dataframe thead th {\n",
       "        text-align: right;\n",
       "    }\n",
       "</style>\n",
       "<table border=\"1\" class=\"dataframe\">\n",
       "  <thead>\n",
       "    <tr style=\"text-align: right;\">\n",
       "      <th></th>\n",
       "      <th>Prediction</th>\n",
       "      <th>Actual</th>\n",
       "    </tr>\n",
       "  </thead>\n",
       "  <tbody>\n",
       "    <tr>\n",
       "      <th>0</th>\n",
       "      <td>133.529221</td>\n",
       "      <td>62.0</td>\n",
       "    </tr>\n",
       "    <tr>\n",
       "      <th>1</th>\n",
       "      <td>133.529221</td>\n",
       "      <td>97.0</td>\n",
       "    </tr>\n",
       "    <tr>\n",
       "      <th>2</th>\n",
       "      <td>133.529221</td>\n",
       "      <td>98.0</td>\n",
       "    </tr>\n",
       "    <tr>\n",
       "      <th>3</th>\n",
       "      <td>133.529221</td>\n",
       "      <td>108.0</td>\n",
       "    </tr>\n",
       "    <tr>\n",
       "      <th>4</th>\n",
       "      <td>133.529221</td>\n",
       "      <td>183.0</td>\n",
       "    </tr>\n",
       "  </tbody>\n",
       "</table>\n",
       "</div>"
      ],
      "text/plain": [
       "   Prediction  Actual\n",
       "0  133.529221    62.0\n",
       "1  133.529221    97.0\n",
       "2  133.529221    98.0\n",
       "3  133.529221   108.0\n",
       "4  133.529221   183.0"
      ]
     },
     "execution_count": 30,
     "metadata": {},
     "output_type": "execute_result"
    }
   ],
   "source": [
    "pred_y_df"
   ]
  },
  {
   "cell_type": "code",
   "execution_count": 31,
   "id": "51ed49e9-6ac5-4c57-9378-52b345dc3ea8",
   "metadata": {},
   "outputs": [
    {
     "data": {
      "text/plain": [
       "<AxesSubplot:title={'center':'Actual Test Set Vs. Prediction XGBoost'}>"
      ]
     },
     "execution_count": 31,
     "metadata": {},
     "output_type": "execute_result"
    },
    {
     "data": {
      "image/png": "[encoded data removed]",
      "text/plain": [
       "<Figure size 864x504 with 1 Axes>"
      ]
     },
     "metadata": {
      "needs_background": "light"
     },
     "output_type": "display_data"
    }
   ],
   "source": [
    "pred_y_df.plot(figsize=(12,7), title=\"Actual Test Set Vs. Prediction XGBoost\", legend=True)"
   ]
  },
  {
   "cell_type": "code",
   "execution_count": 33,
   "id": "61b6d46b-7764-4ffa-8916-0ed1c81136b2",
   "metadata": {},
   "outputs": [],
   "source": [
    "from sklearn.linear_model import LinearRegression\n",
    "regressor1 = LinearRegression()\n",
    "regressor1.fit(X_train, y_train)\n",
    "with open('regressor1.pkl','wb') as model1:\n",
    "   pickle.dump(regressor1, model1)\n"
   ]
  },
  {
   "cell_type": "code",
   "execution_count": 34,
   "id": "ebb1ca39-5f44-41d7-bc7f-c9b25a2043e4",
   "metadata": {},
   "outputs": [],
   "source": [
    "\n",
    "pred = regressor1.predict(X_test)\n",
    "prediction= np.exp(pred)\n",
    "actual=np.exp(y_test)\n",
    "\n",
    "comparison=pd.DataFrame(np.concatenate((actual,prediction), 1))\n",
    "comparison.rename({ 0:'Actual Demand Qty',1:'Predictions Demand Qty',}, axis=1, inplace=True)"
   ]
  },
  {
   "cell_type": "code",
   "execution_count": 35,
   "id": "7fb5b3bc-2e20-4d4c-a700-7a11797da94a",
   "metadata": {},
   "outputs": [
    {
     "data": {
      "text/html": [
       "<div>\n",
       "<style scoped>\n",
       "    .dataframe tbody tr th:only-of-type {\n",
       "        vertical-align: middle;\n",
       "    }\n",
       "\n",
       "    .dataframe tbody tr th {\n",
       "        vertical-align: top;\n",
       "    }\n",
       "\n",
       "    .dataframe thead th {\n",
       "        text-align: right;\n",
       "    }\n",
       "</style>\n",
       "<table border=\"1\" class=\"dataframe\">\n",
       "  <thead>\n",
       "    <tr style=\"text-align: right;\">\n",
       "      <th></th>\n",
       "      <th>Actual Demand Qty</th>\n",
       "      <th>Predictions Demand Qty</th>\n",
       "    </tr>\n",
       "  </thead>\n",
       "  <tbody>\n",
       "    <tr>\n",
       "      <th>0</th>\n",
       "      <td>8.438357e+26</td>\n",
       "      <td>1.028963e+41</td>\n",
       "    </tr>\n",
       "    <tr>\n",
       "      <th>1</th>\n",
       "      <td>1.338335e+42</td>\n",
       "      <td>1.028963e+41</td>\n",
       "    </tr>\n",
       "    <tr>\n",
       "      <th>2</th>\n",
       "      <td>3.637971e+42</td>\n",
       "      <td>1.028963e+41</td>\n",
       "    </tr>\n",
       "    <tr>\n",
       "      <th>3</th>\n",
       "      <td>8.013164e+46</td>\n",
       "      <td>1.028963e+41</td>\n",
       "    </tr>\n",
       "    <tr>\n",
       "      <th>4</th>\n",
       "      <td>2.991508e+79</td>\n",
       "      <td>1.028963e+41</td>\n",
       "    </tr>\n",
       "  </tbody>\n",
       "</table>\n",
       "</div>"
      ],
      "text/plain": [
       "   Actual Demand Qty  Predictions Demand Qty\n",
       "0       8.438357e+26            1.028963e+41\n",
       "1       1.338335e+42            1.028963e+41\n",
       "2       3.637971e+42            1.028963e+41\n",
       "3       8.013164e+46            1.028963e+41\n",
       "4       2.991508e+79            1.028963e+41"
      ]
     },
     "execution_count": 35,
     "metadata": {},
     "output_type": "execute_result"
    }
   ],
   "source": [
    "comparison"
   ]
  },
  {
   "cell_type": "code",
   "execution_count": 36,
   "id": "17ade2a6-e9a1-4f4a-8d91-7ce84f8dd48f",
   "metadata": {},
   "outputs": [
    {
     "data": {
      "text/plain": [
       "<AxesSubplot:title={'center':'Actual Test Set Vs. Prediction MLR'}>"
      ]
     },
     "execution_count": 36,
     "metadata": {},
     "output_type": "execute_result"
    },
    {
     "data": {
      "image/png": "[encoded data removed]",
      "text/plain": [
       "<Figure size 864x504 with 1 Axes>"
      ]
     },
     "metadata": {
      "needs_background": "light"
     },
     "output_type": "display_data"
    }
   ],
   "source": [
    "comparison.plot(figsize=(12,7), title=\"Actual Test Set Vs. Prediction MLR\", legend=True)"
   ]
  },
  {
   "cell_type": "code",
   "execution_count": null,
   "id": "9be55f94-d935-40dd-b4b6-cd73e28b49ba",
   "metadata": {},
   "outputs": [],
   "source": []
  }
 ],
 "metadata": {
  "kernelspec": {
   "display_name": "Python 3.10.0 64-bit",
   "language": "python",
   "name": "python3100jvsc74a57bd0aee8b7b246df8f9039afb4144a1f6fd8d2ca17a180786b69acc140d282b71a49"
  },
  "language_info": {
   "codemirror_mode": {
    "name": "ipython",
    "version": 3
   },
   "file_extension": ".py",
   "mimetype": "text/x-python",
   "name": "python",
   "nbconvert_exporter": "python",
   "pygments_lexer": "ipython3",
   "version": "3.10.0"
  }
 },
 "nbformat": 4,
 "nbformat_minor": 5
}
